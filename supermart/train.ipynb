{
 "cells": [
  {
   "cell_type": "code",
   "execution_count": 13,
   "id": "fea2a35d",
   "metadata": {},
   "outputs": [
    {
     "name": "stdout",
     "output_type": "stream",
     "text": [
      "Requirement already satisfied: onnx in c:\\users\\user\\appdata\\local\\programs\\python\\python312\\lib\\site-packages (1.18.0)\n",
      "Requirement already satisfied: onnxmltools in c:\\users\\user\\appdata\\local\\programs\\python\\python312\\lib\\site-packages (1.14.0)\n",
      "Requirement already satisfied: xgboost in c:\\users\\user\\appdata\\local\\programs\\python\\python312\\lib\\site-packages (3.0.2)\n",
      "Requirement already satisfied: numpy>=1.22 in c:\\users\\user\\appdata\\local\\programs\\python\\python312\\lib\\site-packages (from onnx) (2.3.0)\n",
      "Requirement already satisfied: protobuf>=4.25.1 in c:\\users\\user\\appdata\\local\\programs\\python\\python312\\lib\\site-packages (from onnx) (6.31.1)\n",
      "Requirement already satisfied: typing_extensions>=4.7.1 in c:\\users\\user\\appdata\\local\\programs\\python\\python312\\lib\\site-packages (from onnx) (4.14.0)\n",
      "Requirement already satisfied: scipy in c:\\users\\user\\appdata\\local\\programs\\python\\python312\\lib\\site-packages (from xgboost) (1.15.3)\n",
      "Note: you may need to restart the kernel to use updated packages.\n"
     ]
    },
    {
     "name": "stderr",
     "output_type": "stream",
     "text": [
      "\n",
      "[notice] A new release of pip is available: 24.0 -> 25.1.1\n",
      "[notice] To update, run: python.exe -m pip install --upgrade pip\n"
     ]
    }
   ],
   "source": [
    "pip install onnx onnxmltools xgboost"
   ]
  },
  {
   "cell_type": "code",
   "execution_count": 22,
   "id": "28db82d5",
   "metadata": {},
   "outputs": [
    {
     "name": "stdout",
     "output_type": "stream",
     "text": [
      "Feature names and their indices:\n",
      "f0: Category\n",
      "f1: Sub Category\n",
      "f2: City\n",
      "f3: Region\n",
      "f4: Profit\n",
      "f5: Discount\n",
      "ONNX model saved to models/xgb_model.onnx\n"
     ]
    }
   ],
   "source": [
    "import pickle\n",
    "import xgboost as xgb\n",
    "import onnxmltools\n",
    "from skl2onnx.common.data_types import FloatTensorType\n",
    "\n",
    "# Load the XGBoost model\n",
    "model_path = 'models/xgb_model.pkl'  # Update this path\n",
    "with open(model_path, 'rb') as model_file:\n",
    "    xgb_model = pickle.load(model_file)\n",
    "\n",
    "# Get the booster from the model\n",
    "booster = xgb_model.get_booster()\n",
    "\n",
    "# Extract feature names from the booster (if available) or generate default ones\n",
    "if hasattr(booster, 'feature_names') and booster.feature_names:\n",
    "    feature_names = booster.feature_names\n",
    "else:\n",
    "    feature_names = ['f' + str(i) for i in range(len(booster.get_dump()[0].split('\\n')[0].split(',')))]  # default names\n",
    "\n",
    "# Print the feature names and their indices\n",
    "print(\"Feature names and their indices:\")\n",
    "for i, feature in enumerate(feature_names):\n",
    "    print(f\"f{i}: {feature}\")\n",
    "\n",
    "# Define the number of features\n",
    "num_features = len(feature_names)\n",
    "\n",
    "# Ensure feature names follow ONNX's expected format (f0, f1, f2, ...)\n",
    "modified_feature_names = ['f' + str(i) for i in range(num_features)]\n",
    "\n",
    "# Update the booster with the correct feature names\n",
    "booster.feature_names = modified_feature_names\n",
    "\n",
    "# Define the input types for the ONNX conversion (based on number of features)\n",
    "initial_types = [('input', FloatTensorType([None, num_features]))]\n",
    "\n",
    "# Convert the XGBoost model to ONNX format\n",
    "onnx_model = onnxmltools.convert.convert_xgboost(xgb_model, initial_types=initial_types)\n",
    "\n",
    "# Save the ONNX model\n",
    "onnx_model_path = 'models/xgb_model.onnx'  # Update this path\n",
    "onnxmltools.utils.save_model(onnx_model, onnx_model_path)\n",
    "\n",
    "print(f\"ONNX model saved to {onnx_model_path}\")\n"
   ]
  },
  {
   "cell_type": "code",
   "execution_count": 25,
   "id": "88a00f8a",
   "metadata": {},
   "outputs": [
    {
     "name": "stdout",
     "output_type": "stream",
     "text": [
      "ONNX model saved to models/scaler.onnx\n"
     ]
    }
   ],
   "source": [
    "import joblib\n",
    "import skl2onnx\n",
    "from skl2onnx import convert_sklearn\n",
    "from skl2onnx.common.data_types import FloatTensorType\n",
    "\n",
    "# Load the scaler model\n",
    "scaler_path = 'models/scaler.pkl'  # Update this path\n",
    "scaler = joblib.load(scaler_path)\n",
    "\n",
    "# Define the input type for the scaler (assuming it was trained on 6 features)\n",
    "initial_type = [('input', FloatTensorType([None, 6]))]  # Update 6 based on your actual number of features\n",
    "\n",
    "# Convert the scaler to ONNX format\n",
    "onnx_scaler = convert_sklearn(scaler, initial_types=initial_type)\n",
    "\n",
    "# Save the ONNX model\n",
    "onnx_model_path = 'models/scaler.onnx'  # Update this path\n",
    "onnx.save_model(onnx_scaler, onnx_model_path)\n",
    "\n",
    "print(f\"ONNX model saved to {onnx_model_path}\")\n"
   ]
  },
  {
   "cell_type": "code",
   "execution_count": 27,
   "id": "c73c8389",
   "metadata": {},
   "outputs": [
    {
     "ename": "MissingShapeCalculator",
     "evalue": "Unable to find a shape calculator for type '<class '__main__.LabelEncoderWrapper'>'.\nIt usually means the pipeline being converted contains a\ntransformer or a predictor with no corresponding converter\nimplemented in sklearn-onnx. If the converted is implemented\nin another library, you need to register\nthe converted so that it can be used by sklearn-onnx (function\nupdate_registered_converter). If the model is not yet covered\nby sklearn-onnx, you may raise an issue to\nhttps://github.com/onnx/sklearn-onnx/issues\nto get the converter implemented or even contribute to the\nproject. If the model is a custom model, a new converter must\nbe implemented. Examples can be found in the gallery.\n",
     "output_type": "error",
     "traceback": [
      "\u001b[31m---------------------------------------------------------------------------\u001b[39m",
      "\u001b[31mMissingShapeCalculator\u001b[39m                    Traceback (most recent call last)",
      "\u001b[36mCell\u001b[39m\u001b[36m \u001b[39m\u001b[32mIn[27]\u001b[39m\u001b[32m, line 35\u001b[39m\n\u001b[32m     32\u001b[39m initial_type = [(\u001b[33m'\u001b[39m\u001b[33minput\u001b[39m\u001b[33m'\u001b[39m, StringTensorType([\u001b[38;5;28;01mNone\u001b[39;00m, \u001b[32m1\u001b[39m]))]  \u001b[38;5;66;03m# Assuming it accepts one string feature\u001b[39;00m\n\u001b[32m     34\u001b[39m \u001b[38;5;66;03m# Convert the custom LabelEncoder wrapper to ONNX format\u001b[39;00m\n\u001b[32m---> \u001b[39m\u001b[32m35\u001b[39m onnx_label_encoder = \u001b[43mconvert_sklearn\u001b[49m\u001b[43m(\u001b[49m\u001b[43mwrapper\u001b[49m\u001b[43m,\u001b[49m\u001b[43m \u001b[49m\u001b[43minitial_types\u001b[49m\u001b[43m=\u001b[49m\u001b[43minitial_type\u001b[49m\u001b[43m)\u001b[49m\n\u001b[32m     37\u001b[39m \u001b[38;5;66;03m# Save the ONNX model\u001b[39;00m\n\u001b[32m     38\u001b[39m onnx_model_path = \u001b[33m'\u001b[39m\u001b[33mmodels/label_encoders.onnx\u001b[39m\u001b[33m'\u001b[39m  \u001b[38;5;66;03m# Update this path\u001b[39;00m\n",
      "\u001b[36mFile \u001b[39m\u001b[32mc:\\Users\\User\\AppData\\Local\\Programs\\Python\\Python312\\Lib\\site-packages\\skl2onnx\\convert.py:211\u001b[39m, in \u001b[36mconvert_sklearn\u001b[39m\u001b[34m(model, name, initial_types, doc_string, target_opset, custom_conversion_functions, custom_shape_calculators, custom_parsers, options, intermediate, white_op, black_op, final_types, dtype, naming, model_optim, verbose)\u001b[39m\n\u001b[32m    209\u001b[39m \u001b[38;5;28;01mif\u001b[39;00m verbose >= \u001b[32m1\u001b[39m:\n\u001b[32m    210\u001b[39m     \u001b[38;5;28mprint\u001b[39m(\u001b[33m\"\u001b[39m\u001b[33m[convert_sklearn] convert_topology\u001b[39m\u001b[33m\"\u001b[39m)\n\u001b[32m--> \u001b[39m\u001b[32m211\u001b[39m onnx_model = \u001b[43mconvert_topology\u001b[49m\u001b[43m(\u001b[49m\n\u001b[32m    212\u001b[39m \u001b[43m    \u001b[49m\u001b[43mtopology\u001b[49m\u001b[43m,\u001b[49m\n\u001b[32m    213\u001b[39m \u001b[43m    \u001b[49m\u001b[43mname\u001b[49m\u001b[43m,\u001b[49m\n\u001b[32m    214\u001b[39m \u001b[43m    \u001b[49m\u001b[43mdoc_string\u001b[49m\u001b[43m,\u001b[49m\n\u001b[32m    215\u001b[39m \u001b[43m    \u001b[49m\u001b[43mtarget_opset\u001b[49m\u001b[43m,\u001b[49m\n\u001b[32m    216\u001b[39m \u001b[43m    \u001b[49m\u001b[43moptions\u001b[49m\u001b[43m=\u001b[49m\u001b[43moptions\u001b[49m\u001b[43m,\u001b[49m\n\u001b[32m    217\u001b[39m \u001b[43m    \u001b[49m\u001b[43mremove_identity\u001b[49m\u001b[43m=\u001b[49m\u001b[43mmodel_optim\u001b[49m\u001b[43m \u001b[49m\u001b[38;5;129;43;01mand\u001b[39;49;00m\u001b[43m \u001b[49m\u001b[38;5;129;43;01mnot\u001b[39;49;00m\u001b[43m \u001b[49m\u001b[43mintermediate\u001b[49m\u001b[43m,\u001b[49m\n\u001b[32m    218\u001b[39m \u001b[43m    \u001b[49m\u001b[43mverbose\u001b[49m\u001b[43m=\u001b[49m\u001b[43mverbose\u001b[49m\u001b[43m,\u001b[49m\n\u001b[32m    219\u001b[39m \u001b[43m\u001b[49m\u001b[43m)\u001b[49m\n\u001b[32m    220\u001b[39m \u001b[38;5;28;01mif\u001b[39;00m verbose >= \u001b[32m1\u001b[39m:\n\u001b[32m    221\u001b[39m     \u001b[38;5;28mprint\u001b[39m(\u001b[33m\"\u001b[39m\u001b[33m[convert_sklearn] end\u001b[39m\u001b[33m\"\u001b[39m)\n",
      "\u001b[36mFile \u001b[39m\u001b[32mc:\\Users\\User\\AppData\\Local\\Programs\\Python\\Python312\\Lib\\site-packages\\skl2onnx\\common\\_topology.py:1671\u001b[39m, in \u001b[36mconvert_topology\u001b[39m\u001b[34m(topology, model_name, doc_string, target_opset, options, remove_identity, verbose)\u001b[39m\n\u001b[32m   1661\u001b[39m container = ModelComponentContainer(\n\u001b[32m   1662\u001b[39m     target_opset,\n\u001b[32m   1663\u001b[39m     options=options,\n\u001b[32m   (...)\u001b[39m\u001b[32m   1667\u001b[39m     verbose=verbose,\n\u001b[32m   1668\u001b[39m )\n\u001b[32m   1669\u001b[39m \u001b[38;5;66;03m# Traverse the graph from roots to leaves\u001b[39;00m\n\u001b[32m   1670\u001b[39m \u001b[38;5;66;03m# This loop could eventually be parallelized.\u001b[39;00m\n\u001b[32m-> \u001b[39m\u001b[32m1671\u001b[39m \u001b[43mtopology\u001b[49m\u001b[43m.\u001b[49m\u001b[43mconvert_operators\u001b[49m\u001b[43m(\u001b[49m\u001b[43mcontainer\u001b[49m\u001b[43m=\u001b[49m\u001b[43mcontainer\u001b[49m\u001b[43m,\u001b[49m\u001b[43m \u001b[49m\u001b[43mverbose\u001b[49m\u001b[43m=\u001b[49m\u001b[43mverbose\u001b[49m\u001b[43m)\u001b[49m\n\u001b[32m   1672\u001b[39m \u001b[38;5;28;01mreturn\u001b[39;00m make_model_from_container(\n\u001b[32m   1673\u001b[39m     container,\n\u001b[32m   1674\u001b[39m     remove_identity=remove_identity,\n\u001b[32m   (...)\u001b[39m\u001b[32m   1678\u001b[39m     model_name=model_name,\n\u001b[32m   1679\u001b[39m )\n",
      "\u001b[36mFile \u001b[39m\u001b[32mc:\\Users\\User\\AppData\\Local\\Programs\\Python\\Python312\\Lib\\site-packages\\skl2onnx\\common\\_topology.py:1347\u001b[39m, in \u001b[36mTopology.convert_operators\u001b[39m\u001b[34m(self, container, verbose)\u001b[39m\n\u001b[32m   1344\u001b[39m \u001b[38;5;28;01mfor\u001b[39;00m variable \u001b[38;5;129;01min\u001b[39;00m operator.outputs:\n\u001b[32m   1345\u001b[39m     _check_variable_out_(variable, operator)\n\u001b[32m-> \u001b[39m\u001b[32m1347\u001b[39m \u001b[38;5;28;43mself\u001b[39;49m\u001b[43m.\u001b[49m\u001b[43mcall_shape_calculator\u001b[49m\u001b[43m(\u001b[49m\u001b[43moperator\u001b[49m\u001b[43m)\u001b[49m\n\u001b[32m   1348\u001b[39m \u001b[38;5;28mself\u001b[39m.call_converter(operator, container, verbose=verbose)\n\u001b[32m   1350\u001b[39m \u001b[38;5;66;03m# If an operator contains a sequence of operators,\u001b[39;00m\n\u001b[32m   1351\u001b[39m \u001b[38;5;66;03m# output variables are not necessarily known at this stage.\u001b[39;00m\n",
      "\u001b[36mFile \u001b[39m\u001b[32mc:\\Users\\User\\AppData\\Local\\Programs\\Python\\Python312\\Lib\\site-packages\\skl2onnx\\common\\_topology.py:1162\u001b[39m, in \u001b[36mTopology.call_shape_calculator\u001b[39m\u001b[34m(self, operator)\u001b[39m\n\u001b[32m   1160\u001b[39m \u001b[38;5;28;01melse\u001b[39;00m:\n\u001b[32m   1161\u001b[39m     logger.debug(\u001b[33m\"\u001b[39m\u001b[33m[Shape2] call infer_types for \u001b[39m\u001b[38;5;132;01m%r\u001b[39;00m\u001b[33m\"\u001b[39m, operator)\n\u001b[32m-> \u001b[39m\u001b[32m1162\u001b[39m     \u001b[43moperator\u001b[49m\u001b[43m.\u001b[49m\u001b[43minfer_types\u001b[49m\u001b[43m(\u001b[49m\u001b[43m)\u001b[49m\n",
      "\u001b[36mFile \u001b[39m\u001b[32mc:\\Users\\User\\AppData\\Local\\Programs\\Python\\Python312\\Lib\\site-packages\\skl2onnx\\common\\_topology.py:628\u001b[39m, in \u001b[36mOperator.infer_types\u001b[39m\u001b[34m(self)\u001b[39m\n\u001b[32m    625\u001b[39m \u001b[38;5;28;01mdef\u001b[39;00m\u001b[38;5;250m \u001b[39m\u001b[34minfer_types\u001b[39m(\u001b[38;5;28mself\u001b[39m):\n\u001b[32m    626\u001b[39m     \u001b[38;5;66;03m# Invoke a core inference function\u001b[39;00m\n\u001b[32m    627\u001b[39m     \u001b[38;5;28;01mif\u001b[39;00m \u001b[38;5;28mself\u001b[39m.type \u001b[38;5;129;01mis\u001b[39;00m \u001b[38;5;28;01mNone\u001b[39;00m:\n\u001b[32m--> \u001b[39m\u001b[32m628\u001b[39m         \u001b[38;5;28;01mraise\u001b[39;00m MissingShapeCalculator(\n\u001b[32m    629\u001b[39m             \u001b[33m\"\u001b[39m\u001b[33mUnable to find a shape calculator for type \u001b[39m\u001b[33m'\u001b[39m\u001b[38;5;132;01m{}\u001b[39;00m\u001b[33m'\u001b[39m\u001b[33m.\u001b[39m\u001b[33m\"\u001b[39m.format(\n\u001b[32m    630\u001b[39m                 \u001b[38;5;28mtype\u001b[39m(\u001b[38;5;28mself\u001b[39m.raw_operator)\n\u001b[32m    631\u001b[39m             )\n\u001b[32m    632\u001b[39m         )\n\u001b[32m    633\u001b[39m     \u001b[38;5;28;01mtry\u001b[39;00m:\n\u001b[32m    634\u001b[39m         shape_calc = _registration.get_shape_calculator(\u001b[38;5;28mself\u001b[39m.type)\n",
      "\u001b[31mMissingShapeCalculator\u001b[39m: Unable to find a shape calculator for type '<class '__main__.LabelEncoderWrapper'>'.\nIt usually means the pipeline being converted contains a\ntransformer or a predictor with no corresponding converter\nimplemented in sklearn-onnx. If the converted is implemented\nin another library, you need to register\nthe converted so that it can be used by sklearn-onnx (function\nupdate_registered_converter). If the model is not yet covered\nby sklearn-onnx, you may raise an issue to\nhttps://github.com/onnx/sklearn-onnx/issues\nto get the converter implemented or even contribute to the\nproject. If the model is a custom model, a new converter must\nbe implemented. Examples can be found in the gallery.\n"
     ]
    }
   ],
   "source": [
    "import joblib\n",
    "import numpy as np\n",
    "import skl2onnx\n",
    "from skl2onnx import convert_sklearn\n",
    "from skl2onnx.common.data_types import StringTensorType\n",
    "from sklearn.base import BaseEstimator, TransformerMixin\n",
    "from sklearn.preprocessing import LabelEncoder\n",
    "\n",
    "# Custom transformer to wrap LabelEncoder\n",
    "class LabelEncoderWrapper(BaseEstimator, TransformerMixin):\n",
    "    def __init__(self):\n",
    "        self.encoder = LabelEncoder()\n",
    "\n",
    "    def fit(self, X, y=None):\n",
    "        # Fit the label encoder on the data\n",
    "        self.encoder.fit(X)\n",
    "        return self\n",
    "\n",
    "    def transform(self, X):\n",
    "        # Transform the labels using the fitted encoder\n",
    "        return self.encoder.transform(X).reshape(-1, 1)  # Reshaping for ONNX compatibility\n",
    "\n",
    "# Load the LabelEncoder model\n",
    "label_encoder_path = 'models/label_encoders.pkl'  # Update this path\n",
    "label_encoder = joblib.load(label_encoder_path)\n",
    "\n",
    "# Wrap the loaded LabelEncoder in the custom transformer\n",
    "wrapper = LabelEncoderWrapper()\n",
    "wrapper.encoder = label_encoder\n",
    "\n",
    "# Define the input type for the LabelEncoder (assuming it accepts a single string input)\n",
    "initial_type = [('input', StringTensorType([None, 1]))]  # Assuming it accepts one string feature\n",
    "\n",
    "# Convert the custom LabelEncoder wrapper to ONNX format\n",
    "onnx_label_encoder = convert_sklearn(wrapper, initial_types=initial_type)\n",
    "\n",
    "# Save the ONNX model\n",
    "onnx_model_path = 'models/label_encoders.onnx'  # Update this path\n",
    "onnx.save_model(onnx_label_encoder, onnx_model_path)\n",
    "\n",
    "print(f\"ONNX LabelEncoder model saved to {onnx_model_path}\")\n"
   ]
  },
  {
   "cell_type": "code",
   "execution_count": null,
   "id": "351294e6",
   "metadata": {},
   "outputs": [],
   "source": []
  }
 ],
 "metadata": {
  "kernelspec": {
   "display_name": "Python 3",
   "language": "python",
   "name": "python3"
  },
  "language_info": {
   "codemirror_mode": {
    "name": "ipython",
    "version": 3
   },
   "file_extension": ".py",
   "mimetype": "text/x-python",
   "name": "python",
   "nbconvert_exporter": "python",
   "pygments_lexer": "ipython3",
   "version": "3.12.4"
  }
 },
 "nbformat": 4,
 "nbformat_minor": 5
}
